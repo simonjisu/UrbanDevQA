{
 "cells": [
  {
   "cell_type": "markdown",
   "id": "549cb7a2",
   "metadata": {},
   "source": [
    "## Import"
   ]
  },
  {
   "cell_type": "code",
   "execution_count": 1,
   "id": "786423ce",
   "metadata": {},
   "outputs": [
    {
     "name": "stdout",
     "output_type": "stream",
     "text": [
      "OPENAI_API_KEY: ········\n"
     ]
    }
   ],
   "source": [
    "import os\n",
    "import json\n",
    "import numpy as np\n",
    "import pandas as pd\n",
    "\n",
    "from langchain_openai import ChatOpenAI\n",
    "\n",
    "import getpass\n",
    "import os\n",
    "\n",
    "def _set_env(var: str):\n",
    "    if not os.environ.get(var):\n",
    "        os.environ[var] = getpass.getpass(f\"{var}: \")\n",
    "\n",
    "_set_env(\"OPENAI_API_KEY\")\n",
    "\n",
    "from langchain_openai import OpenAIEmbeddings\n",
    "from langchain_chroma import Chroma\n",
    "embeddings = OpenAIEmbeddings(model=\"text-embedding-3-large\")\n",
    "\n",
    "from langchain_core.tools import tool"
   ]
  },
  {
   "cell_type": "markdown",
   "id": "d029d9d4",
   "metadata": {},
   "source": [
    "## Init Geospatial Data"
   ]
  },
  {
   "cell_type": "code",
   "execution_count": 4,
   "id": "6d9566ba",
   "metadata": {},
   "outputs": [
    {
     "name": "stdout",
     "output_type": "stream",
     "text": [
      "(1097, 969) (1153, 1082)\n",
      "6325\n"
     ]
    }
   ],
   "source": [
    "# POP data\n",
    "import rasterio\n",
    "from rasterio.transform import rowcol\n",
    "\n",
    "input_file = 'data/gbr_pd_2020_1km_UNadj.tif'\n",
    "#input_file = 'data/gbr_ppp_2020.tif'\n",
    "bbox = (-0.57, 51.25, 0.37, 51.72) # London bbox\n",
    "with rasterio.open(input_file) as src:\n",
    "    data = src.read(1)\n",
    "    transform = src.transform\n",
    "    \n",
    "    top_left = rowcol(transform, bbox[0], bbox[3])\n",
    "    bottom_right = rowcol(transform, bbox[2], bbox[1])\n",
    "    top_left = (int(top_left[0]), int(top_left[1]))\n",
    "    bottom_right = (int(bottom_right[0]), int(bottom_right[1]))\n",
    "    print(top_left, bottom_right)\n",
    "    \n",
    "    data_cropped = data[top_left[0]:bottom_right[0], top_left[1]:bottom_right[1]]\n",
    "    pop_flat_cropped = data_cropped.flatten()\n",
    "    indices_cropped = np.nonzero(pop_flat_cropped > 0)[0]\n",
    "    rows_cropped, cols_cropped = np.unravel_index(indices_cropped, data_cropped.shape)\n",
    "    rows_adjusted = rows_cropped + top_left[0]\n",
    "    cols_adjusted = cols_cropped + top_left[1]\n",
    "    \n",
    "    populations = [data[row, col] for row, col in zip(rows_adjusted, cols_adjusted)]\n",
    "    center_coords = [tuple(reversed(rasterio.transform.xy(transform, row, col, offset='center'))) \\\n",
    "                    for row, col in zip(rows_adjusted, cols_adjusted)]\n",
    "    ul_coords = [tuple(reversed(rasterio.transform.xy(transform, row, col, offset='ul'))) \\\n",
    "                    for row, col in zip(rows_adjusted, cols_adjusted)]\n",
    "    ur_coords = [tuple(reversed(rasterio.transform.xy(transform, row, col, offset='ur'))) \\\n",
    "                    for row, col in zip(rows_adjusted, cols_adjusted)]\n",
    "    ll_coords = [tuple(reversed(rasterio.transform.xy(transform, row, col, offset='ll'))) \\\n",
    "                    for row, col in zip(rows_adjusted, cols_adjusted)]\n",
    "    lr_coords = [tuple(reversed(rasterio.transform.xy(transform, row, col, offset='lr'))) \\\n",
    "                    for row, col in zip(rows_adjusted, cols_adjusted)]\n",
    "    \n",
    "print(len(populations))\n",
    "# save to numpy file for London populations\n",
    "london_pops_file = 'data/london_pop.npz'\n",
    "np.savez(london_pops_file, populations=populations, center_coords=center_coords, \n",
    "         ul_coords=ul_coords, ur_coords=ur_coords, ll_coords=ll_coords, lr_coords=lr_coords)"
   ]
  },
  {
   "cell_type": "code",
   "execution_count": 24,
   "id": "36062191",
   "metadata": {},
   "outputs": [
    {
     "name": "stdout",
     "output_type": "stream",
     "text": [
      "area_ids_candidate: [2644, 2643, 2446, 2757, 3215, 2660, 3221, 2559, 2758, 2672]\n"
     ]
    }
   ],
   "source": [
    "def pop(city_name, top_k, desc=True):\n",
    "    area_ids = []\n",
    "    bbox_list = []\n",
    "    if 'london' in city_name.lower():\n",
    "        # read population numpy file\n",
    "        london_pops_file = 'data/london_pop.npz'\n",
    "        london_pops = np.load(london_pops_file)\n",
    "        pop = london_pops['populations']\n",
    "        ul_coords = london_pops['ul_coords']\n",
    "        ur_coords = london_pops['ur_coords']\n",
    "        ll_coords = london_pops['ll_coords']\n",
    "        lr_coords = london_pops['lr_coords']\n",
    "        center_coords = london_pops['center_coords']\n",
    "        \n",
    "        indices = list(range(len(pop)))\n",
    "        indices.sort(key=lambda i: pop[i], reverse=(desc==True))\n",
    "        for idx in indices[:top_k]:\n",
    "            #print(pop[idx])\n",
    "            area_ids.append(idx)\n",
    "            bbox = (lr_coords[idx][1], lr_coords[idx][0], ul_coords[idx][1], ul_coords[idx][0])\n",
    "            #print(bbox)\n",
    "            bbox_list.append(bbox)\n",
    "    print('area_ids_candidate:', area_ids)\n",
    "    return area_ids, bbox_list\n"
   ]
  },
  {
   "cell_type": "code",
   "execution_count": 16,
   "id": "6094d530",
   "metadata": {},
   "outputs": [],
   "source": [
    "import requests\n",
    "# https://github.com/geopy/geopy/issues/262\n",
    "from geopy.geocoders import Nominatim\n",
    "geolocator = Nominatim(user_agent=\"UrbanDevQA\")\n",
    "headers = geolocator.headers\n",
    "\n",
    "def geo(bbox, query, limit=10):\n",
    "    query = query.replace(' ','+')\n",
    "    results = []\n",
    "    viewbox = \"{},{},{},{}\".format(bbox[0], bbox[1], bbox[2], bbox[3])\n",
    "    nominatim_url = f\"https://nominatim.openstreetmap.org/search?q={query}&format=json&limit={limit}&viewbox={viewbox}&bounded=1\"\n",
    "    #print(nominatim_url)\n",
    "    response = requests.get(nominatim_url, headers=headers)\n",
    "    #print(response.text)\n",
    "    data = json.loads(response.text)\n",
    "    if 'error' in data:\n",
    "        results.append(None)\n",
    "    else:\n",
    "        results.append(data)\n",
    "    return results\n",
    "\n"
   ]
  },
  {
   "cell_type": "markdown",
   "id": "6acb9a1c",
   "metadata": {},
   "source": [
    "## Define Tools"
   ]
  },
  {
   "cell_type": "code",
   "execution_count": 31,
   "id": "0464ea27",
   "metadata": {},
   "outputs": [],
   "source": [
    "from typing import Any, Dict, List, Optional, Tuple, Union, cast\n",
    "\n",
    "@tool\n",
    "def search_population_density(city_name: str, top_k: int) -> str:\n",
    "    \"\"\"Using this tool to find top areas with the highest population density in a city. Each area is 1 km square.\n",
    "\n",
    "    Parameters:\n",
    "        city_name: The city name (for example: London)\n",
    "        top_k: the number of top areas (for example: 5)\n",
    "\n",
    "    Returns:\n",
    "        List[Dict[str, Any]]: A list of AreaObject dictionaries containing the area id and\n",
    "            bounding box of the area with the format (lat0, lng0, lat1, lng1). \n",
    "            lat0 and lng0 are the coordinates of the lower-right \n",
    "            and lat1 and lng1 are the coordinates of the upper-left of the area.\n",
    "            \n",
    "    Example\n",
    "    -------\n",
    "        >>> search_population_density(\"London\", 10)\n",
    "        [\n",
    "            {'area_id': 2446, 'bbox': [0.04041666553887957,51.54124997447413,0.03208333223888005,51.54958330777413]},\n",
    "        ]\n",
    "    \"\"\"\n",
    "    print('get_population_density')\n",
    "    area_ids, bbox_list = pop(city_name, top_k)\n",
    "    results = []\n",
    "    for idx in range(len(area_ids)):\n",
    "        results.append({'area_id': area_ids[idx], 'bbox': bbox_list[idx]})\n",
    "    return results\n",
    "\n",
    "\n",
    "@tool\n",
    "def check_within_area(area_obj: Dict[str, Any], query: str, condition: str) -> bool:\n",
    "    \"\"\"check if query objects exists within the AreaObject\n",
    "\n",
    "    Parameters:\n",
    "        area_obj(Dict[str, Any]): The area object to check within condition\n",
    "        query: Query string to find objects. For example: use query='fast-food' to find fast-food restaurant within.\n",
    "        condition: the Condition to check (for example: condition=’< 5’ to check if the number of query object within an area is less than 5.\n",
    "\n",
    "    Returns:\n",
    "        True or False\n",
    "        \n",
    "    Example\n",
    "    -------\n",
    "        >>> check_within_area({'area_id': 2446, 'bbox': [0.04041666553887957,51.54124997447413,0.03208333223888005,51.54958330777413]}, \"fast-food\", \"< 5\")\n",
    "        True\n",
    "    \"\"\"\n",
    "    print('check_within_area')\n",
    "    area_id = area_obj['area_id']\n",
    "    bbox = area_obj['bbox']\n",
    "    \n",
    "    tokens = condition.split(' ')\n",
    "    cond = tokens[0].strip()\n",
    "    limit = tokens[1].strip()\n",
    "    limit = int(limit)\n",
    "    # call geospatial tool\n",
    "    results = geo(bbox, query, limit)\n",
    "    \n",
    "    if len(results) < limit:\n",
    "        return True\n",
    "    else:\n",
    "        return False\n",
    "\n",
    "@tool\n",
    "def check_near_by_area(area_obj: Dict[str, Any], query: str, condition: str) -> bool:\n",
    "    \"\"\"check if query objects exists nearby the AreaObject\n",
    "\n",
    "    Parameters:\n",
    "        area_obj(Dict[str, Any]): The area object to check nearby condition\n",
    "        query: Query string to find objects. For example: use query='amenity=school' to find schools nearby.\n",
    "        condition: The condition to check. For example: condition='distance > 400m' to check if query object exists nearby an area by 400m. \n",
    "\n",
    "    Returns:\n",
    "        True or False\n",
    "        \n",
    "    Example\n",
    "    -------\n",
    "        >>> check_near_by_area({'area_id': 2446, 'bbox': [0.04041666553887957,51.54124997447413,0.03208333223888005,51.54958330777413]}, \"amenity=school\", \"distance > 400m\")\n",
    "        True\n",
    "    \"\"\"\n",
    "    print('check_near_by_area')\n",
    "    import re\n",
    "    tokens = re.split(' > ', condition)\n",
    "    distance = tokens[-1].strip()\n",
    "    distance = int(re.search(r'\\d+', distance).group())\n",
    "    \n",
    "    area_id = area_obj['area_id']\n",
    "    bbox = area_obj['bbox']\n",
    "    # compute new boundingbox from AreaObject with distance\n",
    "    import geopy.distance\n",
    "    left_point = (bbox[0], bbox[1])\n",
    "    # go East first\n",
    "    new_left_point = geopy.distance.distance(meters=distance).destination(left_point, bearing=90)\n",
    "    new_left_point = (new_left_point[0], new_left_point[1])\n",
    "    # then go north\n",
    "    new_left_point = geopy.distance.distance(meters=distance).destination(new_left_point, bearing=90)\n",
    "    \n",
    "    right_point = (bbox[2], bbox[3])\n",
    "    # go West first\n",
    "    new_right_point = geopy.distance.distance(meters=distance).destination(right_point, bearing=-90)\n",
    "    new_right_point = (new_right_point[0], new_right_point[1])\n",
    "    # then go south\n",
    "    new_right_point = geopy.distance.distance(meters=distance).destination(new_right_point, bearing=180)\n",
    "    \n",
    "    new_bbox = (new_left_point[0], new_left_point[1], new_right_point[0], new_right_point[1])\n",
    "    # call geospatial tool\n",
    "    results = geo(new_bbox, query)\n",
    "    if len(results) > 0:\n",
    "        return True\n",
    "    else:\n",
    "        return False\n",
    "    \n",
    "\n",
    "tools = [search_population_density, check_within_area, check_near_by_area]\n"
   ]
  },
  {
   "cell_type": "markdown",
   "id": "a744ce45",
   "metadata": {},
   "source": [
    "## ReAct with instruction prompts"
   ]
  },
  {
   "cell_type": "code",
   "execution_count": 32,
   "id": "fe8829c5",
   "metadata": {},
   "outputs": [
    {
     "data": {
      "image/jpeg": "[encoded data removed]",
      "text/plain": [
       "<IPython.core.display.Image object>"
      ]
     },
     "metadata": {},
     "output_type": "display_data"
    }
   ],
   "source": [
    "from langgraph.prebuilt import create_react_agent\n",
    "\n",
    "system_prompt = \"\"\"For the given question, you should follow the following steps:\n",
    "1. Find high density: find high foot traffic areas in London. Call them as candidate areas.\n",
    "2. Check less competitions: find the area from list of candidate areas that has less competitions.\n",
    "3. Check by urban regulation: find the area from list of candidate areas that do not have any schools nearby.\n",
    "4. You should only run tools step-by-step, do not run multiple tools at the same time.\n",
    "\"\"\"\n",
    "llm = ChatOpenAI(model=\"gpt-4o-mini\", temperature=0.0, api_key=OPENAI_API_KEY)\n",
    "graph = create_react_agent(llm, tools=tools, state_modifier=system_prompt)\n",
    "\n",
    "from IPython.display import Image, display\n",
    "display(Image(graph.get_graph().draw_mermaid_png()))\n",
    "\n",
    "def print_stream(stream):\n",
    "    for s in stream:\n",
    "        message = s[\"messages\"][-1]\n",
    "        if isinstance(message, tuple):\n",
    "            print(message)\n",
    "        else:\n",
    "            message.pretty_print()"
   ]
  },
  {
   "cell_type": "code",
   "execution_count": null,
   "id": "10987e51",
   "metadata": {
    "scrolled": true
   },
   "outputs": [],
   "source": [
    "query = \"Please recommend three locations in London for a new fast-food restaurant.\"\n",
    "inputs = {\"messages\": [(\"user\", query)]}\n",
    "print_stream(graph.stream(inputs, stream_mode=\"values\"))\n"
   ]
  },
  {
   "cell_type": "markdown",
   "id": "e3e5463a",
   "metadata": {},
   "source": [
    "## ReAct without instruction prompts"
   ]
  },
  {
   "cell_type": "code",
   "execution_count": 12,
   "id": "8e009a82",
   "metadata": {
    "scrolled": true
   },
   "outputs": [
    {
     "data": {
      "image/jpeg": "[encoded data removed]",
      "text/plain": [
       "<IPython.core.display.Image object>"
      ]
     },
     "metadata": {},
     "output_type": "display_data"
    }
   ],
   "source": [
    "from langgraph.prebuilt import create_react_agent\n",
    "\n",
    "llm = ChatOpenAI(model=\"gpt-4o-mini\", temperature=0.0, api_key=OPENAI_API_KEY)\n",
    "graph = create_react_agent(llm, tools=tools)\n",
    "\n",
    "from IPython.display import Image, display\n",
    "display(Image(graph.get_graph().draw_mermaid_png()))\n",
    "\n",
    "def print_stream(stream):\n",
    "    for s in stream:\n",
    "        message = s[\"messages\"][-1]\n",
    "        if isinstance(message, tuple):\n",
    "            print(message)\n",
    "        else:\n",
    "            message.pretty_print()"
   ]
  },
  {
   "cell_type": "code",
   "execution_count": null,
   "id": "9086d4eb",
   "metadata": {
    "scrolled": true
   },
   "outputs": [],
   "source": [
    "query = \"Please recommend three locations in London for a new fast-food restaurant.\"\n",
    "inputs = {\"messages\": [(\"user\", query)]}\n",
    "print_stream(graph.stream(inputs, stream_mode=\"values\"))\n"
   ]
  },
  {
   "cell_type": "code",
   "execution_count": null,
   "id": "b896b288",
   "metadata": {},
   "outputs": [],
   "source": []
  },
  {
   "cell_type": "code",
   "execution_count": null,
   "id": "62e312cf",
   "metadata": {},
   "outputs": [],
   "source": []
  }
 ],
 "metadata": {
  "kernelspec": {
   "display_name": "Python 3 (ipykernel)",
   "language": "python",
   "name": "python3"
  },
  "language_info": {
   "codemirror_mode": {
    "name": "ipython",
    "version": 3
   },
   "file_extension": ".py",
   "mimetype": "text/x-python",
   "name": "python",
   "nbconvert_exporter": "python",
   "pygments_lexer": "ipython3",
   "version": "3.10.14"
  }
 },
 "nbformat": 4,
 "nbformat_minor": 5
}
